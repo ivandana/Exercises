{
 "metadata": {
  "language_info": {
   "codemirror_mode": {
    "name": "ipython",
    "version": 3
   },
   "file_extension": ".py",
   "mimetype": "text/x-python",
   "name": "python",
   "nbconvert_exporter": "python",
   "pygments_lexer": "ipython3",
   "version": "3.8.5-final"
  },
  "orig_nbformat": 2,
  "kernelspec": {
   "name": "Python 3.8.5 64-bit",
   "display_name": "Python 3.8.5 64-bit",
   "metadata": {
    "interpreter": {
     "hash": "082e9a3bcad0a290d0001e938aa60b99250c6c2ef33a923c00b70f9826caf4b7"
    }
   }
  }
 },
 "nbformat": 4,
 "nbformat_minor": 2,
 "cells": [
  {
   "cell_type": "markdown",
   "metadata": {},
   "source": [
    "## 2.1"
   ]
  },
  {
   "cell_type": "code",
   "execution_count": 3,
   "metadata": {
    "tags": []
   },
   "outputs": [
    {
     "output_type": "stream",
     "name": "stdout",
     "text": "x =  2\n"
    }
   ],
   "source": [
    "x = 2\n",
    "y = 3\n",
    "#a\n",
    "print('x = ', x)"
   ]
  },
  {
   "cell_type": "code",
   "execution_count": 6,
   "metadata": {
    "tags": []
   },
   "outputs": [
    {
     "output_type": "stream",
     "name": "stdout",
     "text": "Value of 2 + 2 is 4\n"
    }
   ],
   "source": [
    "#b \n",
    "print('Value of', x, '+', x, 'is', (x + x))"
   ]
  },
  {
   "cell_type": "code",
   "execution_count": 7,
   "metadata": {
    "tags": []
   },
   "outputs": [
    {
     "output_type": "stream",
     "name": "stdout",
     "text": "x = \n"
    }
   ],
   "source": [
    "#c\n",
    "print('x = ')"
   ]
  },
  {
   "cell_type": "code",
   "execution_count": 8,
   "metadata": {
    "tags": []
   },
   "outputs": [
    {
     "output_type": "stream",
     "name": "stdout",
     "text": "5 x =  5\n"
    }
   ],
   "source": [
    "#d \n",
    "print((x + y), 'x = ', (y + x))"
   ]
  },
  {
   "cell_type": "markdown",
   "metadata": {},
   "source": [
    "## 2.2"
   ]
  },
  {
   "cell_type": "code",
   "execution_count": 13,
   "metadata": {
    "tags": []
   },
   "outputs": [],
   "source": [
    "# add int\n",
    "rating = int(input('Enter an integer rating between 1 and 10')\n"
   ]
  },
  {
   "cell_type": "markdown",
   "metadata": {},
   "source": [
    "## 2.3"
   ]
  },
  {
   "cell_type": "code",
   "execution_count": 15,
   "metadata": {
    "tags": []
   },
   "outputs": [
    {
     "output_type": "stream",
     "name": "stdout",
     "text": "Congratulations! your grade of 91 earns you an A in this course.\n"
    }
   ],
   "source": [
    "grade = 91\n",
    "\n",
    "if grade >= 90:\n",
    "    print('Congratulations! your grade of', grade, 'earns you an A in this course.')"
   ]
  },
  {
   "cell_type": "markdown",
   "metadata": {},
   "source": [
    "## 2.4"
   ]
  },
  {
   "cell_type": "code",
   "execution_count": 16,
   "metadata": {},
   "outputs": [
    {
     "output_type": "execute_result",
     "data": {
      "text/plain": "(29.5, 25.5, 55.0, 13.75, 13.0, 756.25)"
     },
     "metadata": {},
     "execution_count": 16
    }
   ],
   "source": [
    "27.5 + 2, 27.5 - 2, 27.5 * 2, 27.5/2, 27.5//2, 27.5 ** 2"
   ]
  },
  {
   "cell_type": "markdown",
   "metadata": {},
   "source": [
    "## 2.5"
   ]
  },
  {
   "cell_type": "code",
   "execution_count": 22,
   "metadata": {
    "tags": []
   },
   "outputs": [
    {
     "output_type": "stream",
     "name": "stdout",
     "text": "diameter = 4\ncircumference = 12.56636\narea = 12.56636\n"
    }
   ],
   "source": [
    "pi = 3.14159\n",
    "radius = 2\n",
    "print('diameter =',  2 * radius)\n",
    "print('circumference =', 2 * pi * radius)\n",
    "print('area =', pi * radius ** 2)\n"
   ]
  },
  {
   "cell_type": "code",
   "execution_count": 56,
   "metadata": {
    "tags": []
   },
   "outputs": [
    {
     "output_type": "stream",
     "name": "stdout",
     "text": "diameter is = 4\ncircumference is 12.57\narea is 12.57\n"
    }
   ],
   "source": [
    "pi = 3.14159\n",
    "radius = 2\n",
    "circumference = 2*pi*radius\n",
    "area = pi*radius**2\n",
    "print('diameter is =', 2*radius)\n",
    "print(f'circumference is {circumference:,.2f}')\n",
    "print(f'area is {area:,.2f}')"
   ]
  },
  {
   "cell_type": "markdown",
   "metadata": {},
   "source": [
    "## 2.6\n"
   ]
  },
  {
   "cell_type": "code",
   "execution_count": 32,
   "metadata": {
    "tags": []
   },
   "outputs": [
    {
     "output_type": "stream",
     "name": "stdout",
     "text": "8 is even\n"
    }
   ],
   "source": [
    "x = 8\n",
    "if x % 2 == 0:\n",
    "    print(x, 'is even')\n",
    "else:\n",
    "    print(x, 'is odd')    "
   ]
  },
  {
   "cell_type": "code",
   "execution_count": 34,
   "metadata": {
    "tags": []
   },
   "outputs": [
    {
     "output_type": "stream",
     "name": "stdout",
     "text": "12 is even\n7 is odd\n9 is odd\n16 is even\n0 is even\n"
    }
   ],
   "source": [
    "nums = [12, 7, 9, 16,0]\n",
    "for number in nums:\n",
    "    if number % 2 == 0:\n",
    "        print(number, 'is even')\n",
    "    else:\n",
    "        print(number, 'is odd')    "
   ]
  },
  {
   "cell_type": "markdown",
   "metadata": {},
   "source": [
    "## 2.7"
   ]
  },
  {
   "cell_type": "code",
   "execution_count": 41,
   "metadata": {
    "tags": []
   },
   "outputs": [
    {
     "output_type": "stream",
     "name": "stdout",
     "text": "1024 is multiple of 4\n2 is not a multiple of 10\n"
    }
   ],
   "source": [
    "num_1 = 1024\n",
    "num_2 = 2\n",
    "if num_1 % 4 == 0:\n",
    "    print(num_1, 'is multiple of 4')\n",
    "if num_2 % 10 == 0:\n",
    "    print(num_2, 'is multiple of 10')\n",
    "else:\n",
    "    print(num_2, 'is not a multiple of 10')    "
   ]
  },
  {
   "cell_type": "markdown",
   "metadata": {},
   "source": [
    "## 2.8"
   ]
  },
  {
   "cell_type": "code",
   "execution_count": 45,
   "metadata": {
    "tags": []
   },
   "outputs": [
    {
     "output_type": "stream",
     "name": "stdout",
     "text": "    number    square      cube\n         0         0         0\n         1         1         1\n         2         4         8\n         3         9        27\n         4        16        64\n         5        25       125\n"
    }
   ],
   "source": [
    "num_str = 'number'\n",
    "sqr_str = 'square'\n",
    "cube_str = 'cube'\n",
    "print(f'{num_str:>10}{sqr_str:>10}{cube_str:>10}')\n",
    "for nums in range(6):\n",
    "    print(f'{nums:>10}{nums ** 2:>10}{nums ** 3:>10}')"
   ]
  },
  {
   "cell_type": "code",
   "execution_count": 53,
   "metadata": {
    "tags": []
   },
   "outputs": [
    {
     "output_type": "stream",
     "name": "stdout",
     "text": "1\n4\n7\n10\n"
    }
   ],
   "source": [
    "for nums in range(1, 12, 3):\n",
    "    print(nums)\n"
   ]
  },
  {
   "cell_type": "markdown",
   "metadata": {},
   "source": [
    "## 2.9"
   ]
  },
  {
   "cell_type": "code",
   "execution_count": 54,
   "metadata": {},
   "outputs": [
    {
     "output_type": "execute_result",
     "data": {
      "text/plain": "68"
     },
     "metadata": {},
     "execution_count": 54
    }
   ],
   "source": [
    "ord('D')"
   ]
  },
  {
   "cell_type": "markdown",
   "metadata": {},
   "source": [
    "## 2.10"
   ]
  },
  {
   "cell_type": "code",
   "execution_count": 73,
   "metadata": {
    "tags": []
   },
   "outputs": [
    {
     "output_type": "stream",
     "name": "stdout",
     "text": "Total is:18\nAverage is:6.0\nProduct of all the numbers are:192\nSmallest number is:4\nLargest number is:8\n"
    }
   ],
   "source": [
    "nums_1 = int(input('Enter first integer'))\n",
    "nums_2 = int(input('Enter second integer'))\n",
    "nums_3 = int(input('Enter third integer'))\n",
    "total = nums_1 + nums_2 + nums_3\n",
    "average = total/3\n",
    "product = nums_1 * nums_2 * nums_3\n",
    "smallest = min(nums_1, nums_2, nums_3)\n",
    "largest = max(nums_1, nums_2, nums_3)\n",
    "print(f'Total is:{total}')\n",
    "print(f'Average is:{average}')\n",
    "print(f'Product of all the numbers are:{product}')\n",
    "print(f'Smallest number is:{smallest}')\n",
    "print(f'Largest number is:{largest}')"
   ]
  },
  {
   "cell_type": "markdown",
   "metadata": {},
   "source": [
    "## 2.11"
   ]
  },
  {
   "cell_type": "code",
   "execution_count": 67,
   "metadata": {
    "tags": []
   },
   "outputs": [
    {
     "output_type": "stream",
     "name": "stdout",
     "text": " 4  2  3  3  9 \n"
    }
   ],
   "source": [
    "#42339\n",
    "number = int(input('Enter five digit number'))\n",
    "print(f'{number//10000%10:^3}{number//1000%10:^3}{number//100%10:^3}{number//10%10:^3}{number//1%10:^3}')"
   ]
  },
  {
   "cell_type": "code",
   "execution_count": 65,
   "metadata": {
    "tags": []
   },
   "outputs": [
    {
     "output_type": "stream",
     "name": "stdout",
     "text": "4   2   3   3   9\n"
    }
   ],
   "source": [
    "num = int(input('Enter five digit number'))\n",
    "print(num//10000%10,' ',num//1000%10,' ',num//100%10,' ',num//10%10,' ',num//1%10)"
   ]
  },
  {
   "cell_type": "markdown",
   "metadata": {},
   "source": [
    "## 2.12"
   ]
  },
  {
   "cell_type": "code",
   "execution_count": 80,
   "metadata": {
    "tags": []
   },
   "outputs": [
    {
     "output_type": "stream",
     "name": "stdout",
     "text": "Money after 10 years of investment: 1,967.15\nMoney after 20 years of investment: 3,869.68\nMoney after 30 years of inveestment: 3,869.68\n"
    }
   ],
   "source": [
    "p = 1000\n",
    "r = 0.07\n",
    "n1 = 10\n",
    "n2 = 20\n",
    "n3 = 30\n",
    "amount_1 = p * (1 + r) ** n1\n",
    "amount_2 = p * (1 + r) ** n2\n",
    "amount_3 = p * (1 + r) ** n2\n",
    "print(f'Money after 10 years of investment: {amount_1:,.2f}')\n",
    "print(f'Money after 20 years of investment: {amount_2:,.2f}')\n",
    "print(f'Money after 30 years of inveestment: {amount_3:,.2f}')"
   ]
  },
  {
   "cell_type": "markdown",
   "metadata": {},
   "source": [
    "## 2.14"
   ]
  },
  {
   "cell_type": "code",
   "execution_count": 82,
   "metadata": {
    "tags": []
   },
   "outputs": [
    {
     "output_type": "stream",
     "name": "stdout",
     "text": "User's maximum heart rate is: 191\nRange: 95.5 - 162.35\n"
    }
   ],
   "source": [
    "heart_rate = 220 - 29\n",
    "target_rate1 = 0.5 * heart_rate\n",
    "target_rate2 = 0.85 * heart_rate\n",
    "max_rate = int(input('Enter user\"s age'))\n",
    "user_heart_rate = 220 - max_rate\n",
    "print(\"User's maximum heart rate is:\", user_heart_rate)\n",
    "print(\"Range:\", target_rate1, '-', target_rate2)"
   ]
  },
  {
   "cell_type": "markdown",
   "metadata": {},
   "source": [
    "## 2.15"
   ]
  },
  {
   "cell_type": "code",
   "execution_count": 4,
   "metadata": {
    "tags": []
   },
   "outputs": [
    {
     "output_type": "stream",
     "name": "stdout",
     "text": "12.0\n(18.0, 12.0, 20.0)\n"
    }
   ],
   "source": [
    "number1 = float(input('Enter first integer'))\n",
    "number2 = float(input('Enter second integer'))\n",
    "number3 = float(input('Enter third integer'))\n",
    "\n",
    "nums = (number1, number2, number3)\n",
    "\n",
    "minimum = number1\n",
    "if number2 < minimum:\n",
    "    minimum = number2\n",
    "\n",
    "if number3 < minimum:\n",
    "    minimum = number3\n",
    "\n",
    "print(minimum)   \n",
    "print(nums)   \n"
   ]
  },
  {
   "cell_type": "code",
   "execution_count": 5,
   "metadata": {
    "tags": []
   },
   "outputs": [
    {
     "output_type": "stream",
     "name": "stdout",
     "text": "Alice\nBob\nCindy\nAll students are printed\nCurrent item:3\nCurrent item:5\nCurrent item:7\nCurrent item:9\nPrinted all items\n"
    }
   ],
   "source": [
    "students = ['Alice', 'Bob', 'Cindy']\n",
    "for student in students:\n",
    "    print(student)\n",
    "print('All students are printed')\n",
    "\n",
    "for item in range(3,10,2):\n",
    "    print(f'Current item:{item}')\n",
    "print('Printed all items')    "
   ]
  },
  {
   "cell_type": "code",
   "execution_count": 6,
   "metadata": {
    "tags": []
   },
   "outputs": [
    {
     "output_type": "stream",
     "name": "stdout",
     "text": "3\n"
    }
   ],
   "source": [
    "students = ['Alice', 'Bob', 'Cindy']\n",
    "print(len(students))"
   ]
  },
  {
   "cell_type": "code",
   "execution_count": 13,
   "metadata": {
    "tags": []
   },
   "outputs": [
    {
     "output_type": "stream",
     "name": "stdout",
     "text": "    1                Alice\n    2                  Bob\n    3                Cindy\n"
    }
   ],
   "source": [
    "students = ['Alice', 'Bob', 'Cindy']\n",
    "\n",
    "for index in range(len(students)):\n",
    "    print(f'{index + 1: >5} {students[index]: >20}')"
   ]
  },
  {
   "cell_type": "code",
   "execution_count": 12,
   "metadata": {
    "tags": []
   },
   "outputs": [
    {
     "output_type": "stream",
     "name": "stdout",
     "text": "Palce                 Name\n----- --------------------\n    1                Alice\n    2                  Bob\n    3                Cindy\n"
    }
   ],
   "source": [
    "Place_Width = 5\n",
    "Name_Width = 20\n",
    "\n",
    "students = ['Alice', 'Bob', 'Cindy']\n",
    "print(f'{\"Palce\": >{Place_Width}} {\"Name\": >{Name_Width}}')\n",
    "\n",
    "print('-' * Place_Width, '-' * Name_Width)\n",
    "for index in range(len(students)):\n",
    "    print(f'{index +1: >{Place_Width}} {students[index]: >{Name_Width}}')"
   ]
  },
  {
   "cell_type": "code",
   "execution_count": null,
   "metadata": {},
   "outputs": [],
   "source": []
  }
 ]
}