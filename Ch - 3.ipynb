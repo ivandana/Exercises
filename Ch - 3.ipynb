{
 "metadata": {
  "language_info": {
   "codemirror_mode": {
    "name": "ipython",
    "version": 3
   },
   "file_extension": ".py",
   "mimetype": "text/x-python",
   "name": "python",
   "nbconvert_exporter": "python",
   "pygments_lexer": "ipython3",
   "version": "3.8.5-final"
  },
  "orig_nbformat": 2,
  "kernelspec": {
   "name": "Python 3.8.5 64-bit",
   "display_name": "Python 3.8.5 64-bit",
   "metadata": {
    "interpreter": {
     "hash": "082e9a3bcad0a290d0001e938aa60b99250c6c2ef33a923c00b70f9826caf4b7"
    }
   }
  }
 },
 "nbformat": 4,
 "nbformat_minor": 2,
 "cells": [
  {
   "cell_type": "markdown",
   "metadata": {},
   "source": [
    "## 3.1"
   ]
  },
  {
   "cell_type": "code",
   "execution_count": 73,
   "metadata": {
    "tags": []
   },
   "outputs": [
    {
     "output_type": "stream",
     "name": "stdout",
     "text": "Passed: 5\nFailed: 5\n"
    }
   ],
   "source": [
    "passed, failed = 0, 0\n",
    "count = 0\n",
    "while count < 10:\n",
    "   result = int(input(\"Enter a number (1=pass, 2=fail)\"))\n",
    "   if result == 1:\n",
    "        passed +=1\n",
    "   elif result == 2:\n",
    "        failed+=1\n",
    "\n",
    "   if result in [1,2]:\n",
    "        count+=1\n",
    "\n",
    "print (f\"Passed: {passed}\")\n",
    "print (f\"Failed: {failed}\")"
   ]
  },
  {
   "cell_type": "markdown",
   "metadata": {},
   "source": [
    "## 3.2"
   ]
  },
  {
   "cell_type": "code",
   "execution_count": 23,
   "metadata": {
    "tags": []
   },
   "outputs": [
    {
     "output_type": "stream",
     "name": "stdout",
     "text": "a = 7 \nb =  7\n"
    }
   ],
   "source": [
    "a = b = 7 \n",
    "print('a =', a, '\\nb = ', b)"
   ]
  },
  {
   "cell_type": "code",
   "execution_count": 29,
   "metadata": {
    "tags": []
   },
   "outputs": [
    {
     "output_type": "stream",
     "name": "stdout",
     "text": "a = 7 \nb = 7\n"
    }
   ],
   "source": [
    "a = b = 7 \n",
    "print('a =', a,'\\n''b =', b)"
   ]
  },
  {
   "cell_type": "markdown",
   "metadata": {},
   "source": [
    "## 3.3"
   ]
  },
  {
   "cell_type": "code",
   "execution_count": 30,
   "metadata": {
    "tags": []
   },
   "outputs": [
    {
     "output_type": "stream",
     "name": "stdout",
     "text": ">>>>>>>>>>\n<<<<<<<<<<\n>>>>>>>>>>\n<<<<<<<<<<\n>>>>>>>>>>\n<<<<<<<<<<\n>>>>>>>>>>\n<<<<<<<<<<\n>>>>>>>>>>\n<<<<<<<<<<\n"
    }
   ],
   "source": [
    "for row in range(10):\n",
    "    for column in range(10):\n",
    "        print('<' if row % 2 == 1 else '>', end = '')\n",
    "    print()    "
   ]
  },
  {
   "cell_type": "markdown",
   "metadata": {},
   "source": [
    "## 3.4"
   ]
  },
  {
   "cell_type": "code",
   "execution_count": 34,
   "metadata": {
    "tags": []
   },
   "outputs": [
    {
     "output_type": "stream",
     "name": "stdout",
     "text": "@@@@@@@\n@@@@@@@\n"
    }
   ],
   "source": [
    "for row in range(2):\n",
    "    for column in range(7):\n",
    "        print('@', end = '')\n",
    "    print() \n",
    "     "
   ]
  },
  {
   "cell_type": "markdown",
   "metadata": {},
   "source": [
    "## 3.5"
   ]
  },
  {
   "cell_type": "code",
   "execution_count": 217,
   "metadata": {
    "tags": []
   },
   "outputs": [
    {
     "output_type": "stream",
     "name": "stdout",
     "text": "Enter two integers, and I will tell youthe relationship they satisfy.\n16 is greater than 12\n16 is greater than or equal to number2\n16 is not equal to number2\n"
    }
   ],
   "source": [
    "print('Enter two integers, and I will tell youthe relationship they satisfy.')\n",
    "\n",
    "number1 = int(input('Enter first integer:'))\n",
    "number2 = int(input('Enter second integer:'))\n",
    "\n",
    "if number1 > number2:\n",
    "    print(number1, 'is greater than', number2)\n",
    "else:\n",
    "    print(number1, 'is less than number2')\n",
    "\n",
    "if number1 >= number2:\n",
    "    print(number1, 'is greater than or equal to number2')\n",
    "else:\n",
    "    print(number1, 'is less than or equal to number2')\n",
    "if number1 == number2:\n",
    "    print(number1, 'is equal to number2')  \n",
    "else:\n",
    "    print(number1, 'is not equal to number2')                 "
   ]
  },
  {
   "cell_type": "markdown",
   "metadata": {},
   "source": [
    "## 3.6"
   ]
  },
  {
   "cell_type": "code",
   "execution_count": 49,
   "metadata": {
    "tags": []
   },
   "outputs": [
    {
     "output_type": "stream",
     "name": "stdout",
     "text": "Well, you have it again.\n"
    }
   ],
   "source": [
    "question = input('What is your problem?')\n",
    "question2 = input('Have you had this problem before(Yes or No?')\n",
    "if question2 == 'yes':\n",
    "    print('Well, you have it again.')\n",
    "elif question2 == 'no':\n",
    "    print('Well, you have it now.')    "
   ]
  },
  {
   "cell_type": "markdown",
   "metadata": {},
   "source": [
    "## 3.7"
   ]
  },
  {
   "cell_type": "code",
   "execution_count": 50,
   "metadata": {
    "tags": []
   },
   "outputs": [
    {
     "output_type": "stream",
     "name": "stdout",
     "text": "    number    square      cube\n         0         0         0\n         1         1         1\n         2         4         8\n         3         9        27\n         4        16        64\n         5        25       125\n"
    }
   ],
   "source": [
    "num_str = 'number'\n",
    "sqr_str = 'square'\n",
    "cube_str = 'cube'\n",
    "print(f'{num_str:>10}{sqr_str:>10}{cube_str:>10}')\n",
    "\n",
    "for num in range(6):\n",
    "    print(f'{num:>10}{num ** 2:>10}{num ** 3:>10}')"
   ]
  },
  {
   "cell_type": "markdown",
   "metadata": {},
   "source": [
    "## 3.8"
   ]
  },
  {
   "cell_type": "code",
   "execution_count": 56,
   "metadata": {
    "tags": []
   },
   "outputs": [
    {
     "output_type": "stream",
     "name": "stdout",
     "text": "28\n7.0\nsmallest number is:  4\n"
    }
   ],
   "source": [
    "total = 0\n",
    "average = 0\n",
    "product = 0\n",
    "counter = 0\n",
    "smallest = []\n",
    "\n",
    "\n",
    "for nums in range(0,4):\n",
    "    nums = int(input('Enter four integers'))\n",
    "    total += nums\n",
    "    counter += 1\n",
    "    average = total/counter\n",
    "    smallest.append(nums)\n",
    "    \n",
    "    \n",
    "print(total)\n",
    "print(average)\n",
    "print('smallest number is: ', min(smallest))\n",
    "\n"
   ]
  },
  {
   "cell_type": "markdown",
   "metadata": {},
   "source": [
    "## 3.9"
   ]
  },
  {
   "cell_type": "code",
   "execution_count": 143,
   "metadata": {
    "tags": []
   },
   "outputs": [
    {
     "output_type": "stream",
     "name": "stdout",
     "text": "4 2 3 3 9 "
    }
   ],
   "source": [
    "num = int(input('Enter an integer'))\n",
    "\n",
    "x=10000\n",
    "for i in range(1,6):\n",
    "    quo = num//x\n",
    "    rem=num%x\n",
    "    print (f\"{int(quo)}\", end = ' ')\n",
    "    x=x/10\n",
    "    num=rem\n",
    "    \n",
    "    \n",
    "\n",
    "    "
   ]
  },
  {
   "cell_type": "code",
   "execution_count": 45,
   "metadata": {
    "tags": []
   },
   "outputs": [
    {
     "output_type": "stream",
     "name": "stdout",
     "text": "4 2 3 3 9 "
    }
   ],
   "source": [
    "x=10\n",
    "for digit in str(42339):\n",
    "    "
   ]
  },
  {
   "cell_type": "markdown",
   "metadata": {},
   "source": [
    "## 3.10"
   ]
  },
  {
   "cell_type": "code",
   "execution_count": 38,
   "metadata": {
    "tags": []
   },
   "outputs": [
    {
     "output_type": "stream",
     "name": "stdout",
     "text": "1   1070.00\n2   1144.90\n3   1225.04\n4   1310.80\n5   1402.55\n6   1500.73\n7   1605.78\n8   1718.19\n9   1838.46\n10   1967.15\n11   2104.85\n12   2252.19\n13   2409.85\n14   2578.53\n15   2759.03\n16   2952.16\n17   3158.82\n18   3379.93\n19   3616.53\n20   3869.68\n21   4140.56\n22   4430.40\n23   4740.53\n24   5072.37\n25   5427.43\n26   5807.35\n27   6213.87\n28   6648.84\n29   7114.26\n30   7612.26\n\n"
    }
   ],
   "source": [
    "p = 1000\n",
    "r = 0.07\n",
    "\n",
    "for year in range(1,31):\n",
    "    amount = p * (1 + r) ** year\n",
    "    print(f'{year}{amount:>10.2f}')\n",
    "\n",
    "print()    "
   ]
  },
  {
   "cell_type": "markdown",
   "metadata": {},
   "source": [
    "## 3.11"
   ]
  },
  {
   "cell_type": "code",
   "execution_count": 55,
   "metadata": {
    "tags": []
   },
   "outputs": [
    {
     "output_type": "stream",
     "name": "stdout",
     "text": "The mile/gallon for this tank was 22.421875\nThe mile/gallon for this tank was 19.417476\nThe mile/gallon for this tank was 24.000000\nThe overall average miles/gallon was 21.601423\n"
    }
   ],
   "source": [
    "SENTINEL = -1\n",
    "total_gallons = 0.0\n",
    "total_miles = 0.0\n",
    "miles_per_gallon = 0.0\n",
    "total_miles_per_gallon = 0.0\n",
    "\n",
    "while True:\n",
    "    gallon = float(input('Enter the gallon used, -1 to exit'))\n",
    "    if gallon == SENTINEL:\n",
    "        break\n",
    "    miles = float(input('Enter the miles driven'))\n",
    "    miles_per_gallon = miles/gallon\n",
    "    total_miles += miles\n",
    "    total_gallons += gallon\n",
    "\n",
    "    print(f'The mile/gallon for this tank was {miles_per_gallon:.6f}')\n",
    "print(f'The overall average miles/gallon was {total_miles/total_gallons:.6f}')    \n"
   ]
  },
  {
   "cell_type": "markdown",
   "metadata": {},
   "source": [
    "## 3.16"
   ]
  },
  {
   "cell_type": "code",
   "execution_count": 243,
   "metadata": {
    "tags": []
   },
   "outputs": [
    {
     "output_type": "stream",
     "name": "stdout",
     "text": "Largest number is: 5\n[1, 2, 3, 4, 5]\n5\n"
    }
   ],
   "source": [
    "largest = []\n",
    "\n",
    "for i in range(5):\n",
    "    i = int(input('Enter a number'))\n",
    "    largest.append(i)\n",
    "print('Largest number is:', max(largest))  \n",
    "largest.sort()\n",
    "print (largest)\n",
    "print (largest[-1])\n",
    "\n",
    "\n",
    "\n"
   ]
  },
  {
   "cell_type": "code",
   "execution_count": 69,
   "metadata": {
    "tags": []
   },
   "outputs": [
    {
     "output_type": "stream",
     "name": "stdout",
     "text": "(a)\n*                   \n* *                 \n* * *               \n* * * *             \n* * * * *           \n* * * * * *         \n* * * * * * *       \n* * * * * * * *     \n* * * * * * * * *   \n* * * * * * * * * * \n\n(b)\n* * * * * * * * * * \n* * * * * * * * *   \n* * * * * * * *     \n* * * * * * *       \n* * * * * *         \n* * * * *           \n* * * *             \n* * *               \n* *                 \n*                   \n\n(c)\n* * * * * * * * * * \n  * * * * * * * * * \n    * * * * * * * * \n      * * * * * * * \n        * * * * * * \n          * * * * * \n            * * * * \n              * * * \n                * * \n                  * \n\n(d)\n                  * \n                * * \n              * * * \n            * * * * \n          * * * * * \n        * * * * * * \n      * * * * * * * \n    * * * * * * * * \n  * * * * * * * * * \n* * * * * * * * * * \n"
    }
   ],
   "source": [
    "print('(a)')\n",
    "for i in range(1,11):\n",
    "    print(f'{\"* \" * i:<20}')\n",
    "print()\n",
    "\n",
    "print('(b)')\n",
    "for j in range(1,11):\n",
    "    p = 11 - j\n",
    "    print(f'{\"* \" * p:<20}')\n",
    "print()\n",
    "\n",
    "print('(c)')\n",
    "for k in range(1,11):\n",
    "    l = 11 - k\n",
    "    print(f'{\"* \" * l:>20}')\n",
    "print()\n",
    "\n",
    "print('(d)')\n",
    "for m in range(1,11):\n",
    "    print(f'{\"* \" * m:>20}')\n"
   ]
  },
  {
   "cell_type": "markdown",
   "metadata": {},
   "source": [
    "## 3.18"
   ]
  },
  {
   "cell_type": "code",
   "execution_count": 81,
   "metadata": {
    "tags": []
   },
   "outputs": [
    {
     "output_type": "stream",
     "name": "stdout",
     "text": "(a)            (b)            (c)            (d)\n*              **********    **********              *\n**             *********      *********             **\n***            ********        ********            ***\n****           *******          *******           ****\n*****          ******            ******          *****\n******         *****              *****         ******\n*******        ****                ****        *******\n********       ***                  ***       ********\n*********      **                    **      *********\n**********     *                      *     **********\n"
    }
   ],
   "source": [
    "print(f'{\"(a)\":>1}{\"(b)\":>15}{\"(c)\":>15}{\"(d)\":>15}')\n",
    "\n",
    "for i in range(1,11):\n",
    "    j = 11-i\n",
    "    print(f'{\"*\" * i:<15}{\"*\" * j:<12}{\"*\" * j:>12}{\"*\" * i:>15}')"
   ]
  },
  {
   "cell_type": "markdown",
   "metadata": {},
   "source": [
    "## 3.12"
   ]
  },
  {
   "cell_type": "code",
   "execution_count": 54,
   "metadata": {
    "tags": []
   },
   "outputs": [
    {
     "output_type": "stream",
     "name": "stdout",
     "text": "4\n93324\n0\n42339\n"
    }
   ],
   "source": [
    "num = int(input('Enter a number'))\n",
    "temp = num\n",
    "pal = 0\n",
    "while (num>0):\n",
    "    dig = num%10\n",
    "    pal = pal * 10 + dig\n",
    "    num = num//10\n",
    "if temp==pal:\n",
    "    print('The number is palindrome')\n",
    "else:\n",
    "    print('Not a palindrome')  \n",
    "print(dig)\n",
    "print(pal)\n",
    "print(num) \n",
    "print(temp)         \n",
    "\n",
    "\n",
    "\n",
    "\n"
   ]
  },
  {
   "cell_type": "markdown",
   "metadata": {},
   "source": [
    "## 3.19"
   ]
  },
  {
   "cell_type": "code",
   "execution_count": 250,
   "metadata": {
    "tags": []
   },
   "outputs": [
    {
     "output_type": "stream",
     "name": "stdout",
     "text": "Pythagorean Triples!\n5 4 3\n10 8 6\n13 12 5\n15 12 9\n17 15 8\n"
    }
   ],
   "source": [
    "d = 0\n",
    "print('Pythagorean Triples!')\n",
    "for a in range(1,20):\n",
    "    for b in range(1, a):\n",
    "        for c in range(1, b):\n",
    "            if c*c + b*b == a*a:\n",
    "                print(a, b, c)\n",
    "                d +=1\n",
    "                #if (a*b) == (a + b + c):\n",
    "                    #print('Area is half perimeter for ', a,  b,  c)\n",
    "                "
   ]
  },
  {
   "cell_type": "code",
   "execution_count": null,
   "metadata": {},
   "outputs": [],
   "source": [
    "# This program draws a design using repeated circles.\n",
    "import turtle\n",
    "\n",
    "# Named constants\n",
    "NUM_CIRCLES = 36    # Number of circles to draw\n",
    "RADIUS = 100        # Radius of each circle\n",
    "ANGLE = 10          # Angle to turn\n",
    "ANIMATION_SPEED = 0 # Animation speed\n",
    "\n",
    "pen = turtle.Pen()\n",
    "\n",
    "# Set the animation speed.\n",
    "pen.speed(ANIMATION_SPEED)\n",
    "\n",
    "# Draw 36 circles, with the turtle tilted\n",
    "# by 10 degrees after each circle is drawn.\n",
    "for x in range(NUM_CIRCLES):\n",
    "    pen.circle(RADIUS)\n",
    "    pen.left(ANGLE)\n",
    "\n",
    "turtle.done()\n"
   ]
  },
  {
   "cell_type": "markdown",
   "metadata": {},
   "source": [
    "## 3.20"
   ]
  },
  {
   "cell_type": "code",
   "execution_count": 100,
   "metadata": {
    "tags": []
   },
   "outputs": [
    {
     "output_type": "stream",
     "name": "stdout",
     "text": "The dicmal value of the binary number is 13\n1\n13\n"
    }
   ],
   "source": [
    "import math\n",
    "binary_num = list(input('Enter a binary number'))\n",
    "decimal_val = 0\n",
    "\n",
    "for i in range(len(binary_num)):\n",
    "    digit = binary_num.pop()\n",
    "    if digit == '1':\n",
    "        decimal_val += pow(2,i)\n",
    "print('The dicmal value of the binary number is', decimal_val)   \n",
    "print(digit)     \n",
    "print(decimal_val)"
   ]
  },
  {
   "cell_type": "markdown",
   "metadata": {},
   "source": [
    "## 3.21"
   ]
  },
  {
   "cell_type": "code",
   "execution_count": 180,
   "metadata": {
    "tags": []
   },
   "outputs": [
    {
     "output_type": "stream",
     "name": "stdout",
     "text": "Cost of purcahse is: 27 cents.\nYour change is :\n2 quarter(s)\n2 dime(s)\n3 penny\n"
    }
   ],
   "source": [
    "quarter, dime, nickel, penny = 25, 10, 5, 1\n",
    "q_count, d_count, n_count, p_count = 0, 0, 0, 0\n",
    "\n",
    "dollor_in_cents = 100\n",
    "balance = 0\n",
    "\n",
    "cost_of_purchase = int(input('Enter an amount in cents:'))\n",
    "print(f'Cost of purcahse is: {cost_of_purchase} cents.')\n",
    "balance = dollor_in_cents - cost_of_purchase\n",
    "\n",
    "if not balance:\n",
    "    print(f'Your change is {balance}')\n",
    "\n",
    "print(f'Your change is :')\n",
    "if balance >= 25:\n",
    "    q_count = balance//quarter\n",
    "    if q_count != 0:\n",
    "        print(f'{q_count} quarter(s)') \n",
    "    balance %= quarter    \n",
    "\n",
    "if balance >= 10:\n",
    "    d_count = balance//dime\n",
    "    if d_count != 0:\n",
    "        print(f'{d_count} dime(s)')\n",
    "    balance %= dime\n",
    "if balance >= 5:\n",
    "    n_count = balance//nickel\n",
    "    if n_count != 0:\n",
    "        print(f'{n_count} nickel(s)')\n",
    "\n",
    "if balance >= 0:\n",
    "    p_count = balance//penny\n",
    "    if p_count !=0:\n",
    "        print(f'{p_count} penny')\n"
   ]
  },
  {
   "cell_type": "code",
   "execution_count": 184,
   "metadata": {
    "tags": []
   },
   "outputs": [
    {
     "output_type": "stream",
     "name": "stdout",
     "text": "You entered: 65\nYou entered: 65\nThe loop terminated without executing the break\n"
    }
   ],
   "source": [
    "for i in range(2):\n",
    "    valu = int(input('Enter an integer (-1 to break):'))\n",
    "    print('You entered:', value)\n",
    "\n",
    "    if value == -1:\n",
    "        break\n",
    "else:\n",
    "    print('The loop terminated without executing the break')    \n"
   ]
  },
  {
   "cell_type": "markdown",
   "metadata": {},
   "source": [
    "## 3.28"
   ]
  },
  {
   "cell_type": "code",
   "execution_count": 199,
   "metadata": {
    "tags": []
   },
   "outputs": [
    {
     "output_type": "stream",
     "name": "stdout",
     "text": "Mean is: 24.5\nMedian is: 22.0\nMode is: 22\nMode(s): [22, 34]\n"
    }
   ],
   "source": [
    "import statistics\n",
    "\n",
    "values = [9,11, 22, 34, 17, 22, 34, 22, 40, 34]\n",
    "print('Mean is:', statistics.mean(values))\n",
    "print('Median is:', statistics.median(values))\n",
    "print('Mode is:', statistics.mode(values))\n",
    "print('Mode(s):', statistics.multimode(values))\n"
   ]
  },
  {
   "cell_type": "markdown",
   "metadata": {},
   "source": [
    "## 3.13"
   ]
  },
  {
   "cell_type": "code",
   "execution_count": 207,
   "metadata": {
    "tags": []
   },
   "outputs": [
    {
     "output_type": "stream",
     "name": "stdout",
     "text": "5! is 120\n"
    }
   ],
   "source": [
    "number = int(input('Enter a non negative number:'))\n",
    "\n",
    "if number < 0:\n",
    "    print('Please enter a non-negative number.')\n",
    "else:\n",
    "    factorial = 1\n",
    "    \n",
    "    for i in range(number, 1, -1):\n",
    "        factorial *= i\n",
    "\n",
    "    print(f'{number}! is {factorial}')    \n"
   ]
  },
  {
   "cell_type": "code",
   "execution_count": 12,
   "metadata": {
    "tags": []
   },
   "outputs": [
    {
     "output_type": "stream",
     "name": "stdout",
     "text": "The total is 558\nThe average is  79.71\nThe min is 59\nThe max is 100\n"
    }
   ],
   "source": [
    "scores = [80, 90, 100, 60, 77, 59, 92]\n",
    "total = sum(scores)\n",
    "average = total / len(scores)\n",
    "print(f'The total is {total}\\nThe average is {average: .2f}\\nThe min is {min(scores)}\\nThe max is {max(scores)}')"
   ]
  },
  {
   "cell_type": "code",
   "execution_count": 63,
   "metadata": {
    "tags": []
   },
   "outputs": [
    {
     "output_type": "stream",
     "name": "stdout",
     "text": "The total is 9\n"
    }
   ],
   "source": [
    "total = 0\n",
    "confirmation = 'yes'\n",
    "\n",
    "while confirmation == 'yes':\n",
    "    number = int(input('Please input an integer: '))\n",
    "    total += number\n",
    "    confirmation = input('more number? yes to continue, otherwise stop.')\n",
    "print(f'The total is {total}')    \n"
   ]
  },
  {
   "cell_type": "code",
   "execution_count": 67,
   "metadata": {
    "tags": []
   },
   "outputs": [
    {
     "output_type": "stream",
     "name": "stdout",
     "text": "The sum from 1 to 10 is: 55\n"
    }
   ],
   "source": [
    "sum = 0\n",
    "number = 1\n",
    "while number <= 10:\n",
    "    sum += number\n",
    "    number += 1\n",
    "print(f'The sum from 1 to 10 is: {sum}')\n"
   ]
  },
  {
   "cell_type": "code",
   "execution_count": 96,
   "metadata": {
    "tags": []
   },
   "outputs": [
    {
     "output_type": "stream",
     "name": "stdout",
     "text": "[9, 3, 3, 2, 4]\n"
    }
   ],
   "source": [
    "number = 42339\n",
    "digits = []\n",
    "\n",
    "while number>0:\n",
    "    digits.append(number%10)\n",
    "    number = (number - number%10)//10\n",
    "\n",
    "print(digits)    "
   ]
  },
  {
   "cell_type": "code",
   "execution_count": 97,
   "metadata": {},
   "outputs": [
    {
     "output_type": "execute_result",
     "data": {
      "text/plain": "4233"
     },
     "metadata": {},
     "execution_count": 97
    }
   ],
   "source": [
    "42339//10"
   ]
  },
  {
   "cell_type": "code",
   "execution_count": 99,
   "metadata": {},
   "outputs": [
    {
     "output_type": "execute_result",
     "data": {
      "text/plain": "6"
     },
     "metadata": {},
     "execution_count": 99
    }
   ],
   "source": [
    "(42339 - 4233)%10"
   ]
  },
  {
   "cell_type": "code",
   "execution_count": 108,
   "metadata": {
    "tags": []
   },
   "outputs": [
    {
     "output_type": "stream",
     "name": "stdout",
     "text": "3.466666666666667\n"
    }
   ],
   "source": [
    "x=4-(4/3)+(4/5)()\n",
    "print (x)"
   ]
  },
  {
   "cell_type": "code",
   "execution_count": null,
   "metadata": {},
   "outputs": [],
   "source": []
  }
 ]
}